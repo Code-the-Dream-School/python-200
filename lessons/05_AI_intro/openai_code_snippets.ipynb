{
 "cells": [
  {
   "cell_type": "markdown",
   "id": "d6a642d9-91ba-4504-af94-8025d9f673d8",
   "metadata": {},
   "source": [
    "# Hello OpenAI"
   ]
  },
  {
   "cell_type": "code",
   "execution_count": null,
   "id": "a63496f1-91f9-4137-9fab-0e967675c024",
   "metadata": {},
   "outputs": [],
   "source": []
  },
  {
   "cell_type": "code",
   "execution_count": 1,
   "id": "cc65b144-74cc-4234-97fe-7ed009b1f3d8",
   "metadata": {},
   "outputs": [
    {
     "name": "stdout",
     "output_type": "stream",
     "text": [
      "C:\\Users\\macha\\OneDrive - Cal State Fullerton\\Documents\\Practice\\Concepts\\python-200\\venv\\Scripts\\python.exe\n"
     ]
    }
   ],
   "source": [
    "#To check if your Python variable path is set to the right path\n",
    "import sys\n",
    "print(sys.executable)"
   ]
  },
  {
   "cell_type": "code",
   "execution_count": 2,
   "id": "3e37a669-0fe2-4504-be46-110162584b74",
   "metadata": {},
   "outputs": [
    {
     "name": "stdout",
     "output_type": "stream",
     "text": [
      "Successfully loaded api key\n"
     ]
    }
   ],
   "source": [
    "\n",
    "from dotenv import load_dotenv\n",
    "if load_dotenv():\n",
    "    print(\"Successfully loaded api key\")"
   ]
  },
  {
   "cell_type": "code",
   "execution_count": 4,
   "id": "f91713ab-8c59-4f97-8f01-770bee12eb25",
   "metadata": {},
   "outputs": [],
   "source": [
    "from openai import OpenAI\n",
    "from pprint import pprint"
   ]
  },
  {
   "cell_type": "code",
   "execution_count": 5,
   "id": "252c5541-a4e9-4bd4-85ef-3e3ee8bac1ba",
   "metadata": {},
   "outputs": [],
   "source": [
    "#Create the client to interface with OpenAI server:\n",
    "client = OpenAI()"
   ]
  },
  {
   "cell_type": "code",
   "execution_count": 6,
   "id": "d776b398-4c4d-41b1-9802-6a59fc3aec70",
   "metadata": {},
   "outputs": [
    {
     "name": "stdout",
     "output_type": "stream",
     "text": [
      "('Subject: Kudos to Sam from the Marketing Team\\n'\n",
      " '\\n'\n",
      " 'Dear Team,\\n'\n",
      " '\\n'\n",
      " 'I want to take a moment to give a big shoutout to Sam from our Marketing '\n",
      " \"Team for his outstanding work on the recent product launch campaign. Sam's \"\n",
      " 'creativity and strategic thinking were instrumental in developing a '\n",
      " 'compelling messaging strategy that resonated with our target audience, '\n",
      " 'resulting in a significant increase in customer engagement and conversions. '\n",
      " 'His dedication to excellence and collaborative spirit have truly set the bar '\n",
      " 'high for our team. Thank you, Sam, for your hard work and contributions that '\n",
      " 'have helped propel our product and the organization to new heights!\\n'\n",
      " '\\n'\n",
      " 'Best regards,\\n'\n",
      " '[Your Name]')\n",
      "<class 'openai.types.responses.response.Response'>\n",
      "gpt-3.5-turbo-0125\n"
     ]
    }
   ],
   "source": [
    "#create model response\n",
    "response = client.responses.create(\n",
    "    model=\"gpt-3.5-turbo\",\n",
    "    input=\"Help write employees' kudos messages. Highlight achievements, teamwork, or personal qualities.\",\n",
    "    instructions = \"1. First mention employee's name and team. 2. Explain his work in minimum shifting it to highlight achievements/bigwin, impact created, and how it helped to grow in product/organization/customer.\"\n",
    "    \n",
    ")\n",
    "\n",
    "pprint(response.output_text)\n",
    "print(type(response))\n",
    "print(response.model)"
   ]
  },
  {
   "cell_type": "code",
   "execution_count": 22,
   "id": "12c8c391-f336-46e0-8c32-a81732da6035",
   "metadata": {},
   "outputs": [
    {
     "name": "stdout",
     "output_type": "stream",
     "text": [
      "KudosFormat(bigwin='Use a simple formula for strong kudos: action + impact + appreciation. The document provides ready-to-send snippets and templates across many scenarios and channels.', teamname='Coverage spans: Quick Slack/Teams shouts; Teamwork and cross-functional collaboration; Customer and impact-focused; Project milestones and delivery; Leadership and ownership; Personal qualities; Behind-the-scenes heroes; Learning and growth; Resilience and incident response; Diversity, inclusion, and culture; Flexible templates by tone and channel.', impact='Emphasize concrete outcomes and beneficiaries: saved time/risk, CSAT lift, conversion increases, reduced rework, reliability and accessibility improvements, minimized downtime, de-risked paths, on-time delivery. Include specifics (metrics like X%, hours saved, teams unblocked, customers renewed).', growth='Highlight learning and development: mentoring, acting on feedback, new skills/certifications, curiosity, perseverance. Power phrases: took initiative; unblocked the team; turned ambiguity into clarity; raised the quality bar; de-risked early; communicated proactively; built trust with customers; improved reliability; mentored others; created repeatable process; made it simpler; modeled our values.')\n"
     ]
    }
   ],
   "source": [
    "#now you have a response but you want it in a particular schema model using pydantic\n",
    "from pydantic import BaseModel\n",
    "class KudosFormat(BaseModel):\n",
    "    bigwin: str\n",
    "    teamname: str\n",
    "    impact: str\n",
    "    growth: str\n",
    "    \n",
    "kudos_message = client.responses.create(\n",
    "    model=\"gpt-5\",\n",
    "    input=\"Help write employees' kudos messages. Highlight achievements, teamwork, or personal qualities.\"\n",
    ")\n",
    "\n",
    "response = client.responses.parse(\n",
    "    model=\"gpt-5\",\n",
    "    input=[\n",
    "        {\"role\": \"system\", \"content\": \"Extract the information.\"},\n",
    "        {\n",
    "            \"role\": \"user\",\n",
    "            \"content\": kudos_message.output_text,\n",
    "        },\n",
    "    ],\n",
    "    text_format=KudosFormat,\n",
    ")\n",
    "structured_kudos = response.output_parsed\n",
    "pprint(structured_kudos)\n",
    "    "
   ]
  },
  {
   "cell_type": "code",
   "execution_count": null,
   "id": "e6ca7738-85ef-460b-a2a2-17bcfa5abf22",
   "metadata": {},
   "outputs": [],
   "source": []
  }
 ],
 "metadata": {
  "kernelspec": {
   "display_name": "Python-200-venv",
   "language": "python",
   "name": "venv"
  },
  "language_info": {
   "codemirror_mode": {
    "name": "ipython",
    "version": 3
   },
   "file_extension": ".py",
   "mimetype": "text/x-python",
   "name": "python",
   "nbconvert_exporter": "python",
   "pygments_lexer": "ipython3",
   "version": "3.12.1"
  }
 },
 "nbformat": 4,
 "nbformat_minor": 5
}
