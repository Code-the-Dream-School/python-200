{
 "cells": [
  {
   "cell_type": "markdown",
   "id": "f3e70e21-bc47-47ee-9a9a-4fe258ce3ded",
   "metadata": {},
   "source": [
    "# Hello OpenAI"
   ]
  },
  {
   "cell_type": "markdown",
   "id": "8dc5a1cf-3be3-46f8-b912-1d582e1f2a44",
   "metadata": {},
   "source": [
    "This is a standalone intro to the OpenAI API to help get people started working with OpenAI's ChatGPT models. \n",
    "\n",
    "You will need an OpenAI API key. Running the code in this notebook will cost less than a penny. \n",
    "\n",
    "To invoke the completions API, we use `client.chat.completions.create(...)`. We'll step through this below, but for now note that a  *completion* refers to the output the model generates in response to your input. In the context of the *chat* API, that output is always text: the model is continuing or trying to *complete* the chat or conversation. \n",
    "\n",
    "If you dig into the online docs, you will see that there is a newer *responses* API from OpenAI that is geared toward building agents, but the completions API is important to learn about as other companies mimic it, and it is sort of the gold standard. "
   ]
  },
  {
   "cell_type": "markdown",
   "id": "2a9f9c1b-3c30-4e73-8f53-6252f41ea9bd",
   "metadata": {},
   "source": [
    "To run this, you will need to create a virtual environment with the following packages installed: `OpenAI`, `dotenv`, and `jupyterlab`. Also, as discussed in the next section, I recommend creating a `.env` file with your openai api key (this is discussed in the next section). Be sure to put `.env` in `.gitignore`!"
   ]
  },
  {
   "cell_type": "markdown",
   "id": "4d0fc5f1-c1fc-4f09-9d4f-1ab2f4108496",
   "metadata": {},
   "source": [
    "## Handling your API Key\n",
    "There are a couple of main ways to securely handle API keys. One, you can set it as an environment variable, and the OpenAI client (instatiated with `client = OpenAI()`) will see it. A second convention is to store it in a local `.env` file in the same directory as the project (so in this case, in the same directory as this notebook).\n",
    "\n",
    "The content of the `.env` file would be:\n",
    "\n",
    "    OPENAI_API_KEY=<api key here>\n",
    "\n",
    "> **Security consideration**: When using .env to handle api keys, it is essential that `.env` be in `.gitignore`, otherwise you will end up publicly sharing your private api keys. "
   ]
  },
  {
   "cell_type": "markdown",
   "id": "1968ba8e-aab5-4f49-b675-2bc01a610538",
   "metadata": {},
   "source": [
    "Once it is stored in `.env` there is a function you can import that will extract the contents of this secret dot env file called...`load_dotenv`, as follows:"
   ]
  },
  {
   "cell_type": "code",
   "execution_count": 2,
   "id": "7936c067-b469-4456-9504-81cf604417ca",
   "metadata": {},
   "outputs": [
    {
     "name": "stdout",
     "output_type": "stream",
     "text": [
      "Successfully loaded api key\n"
     ]
    }
   ],
   "source": [
    "from dotenv import load_dotenv\n",
    "if load_dotenv():\n",
    "    print(\"Successfully loaded api key\")"
   ]
  },
  {
   "cell_type": "code",
   "execution_count": 1,
   "id": "3c78ccbc-abd3-4a38-9902-ad5325aa5b13",
   "metadata": {},
   "outputs": [
    {
     "name": "stdout",
     "output_type": "stream",
     "text": [
      "C:\\Users\\macha\\OneDrive - Cal State Fullerton\\Documents\\Practice\\Concepts\\python-200\\venv\\Scripts\\python.exe\n"
     ]
    }
   ],
   "source": [
    "#To check if your Python variable path is set to the right path\n",
    "import sys\n",
    "print(sys.executable)"
   ]
  },
  {
   "cell_type": "markdown",
   "id": "d1220cfb-5c95-4e2a-bac2-ace4e2629823",
   "metadata": {},
   "source": [
    "## Connecting to ChatGPT\n",
    "The standard way to connect to the Open AI API is to create a `client`, which is an instance of the `OpenAI` class. The `client` is an object that stores your API key and connects you to the OpenAI API server so you don't have to write raw HTTP requests yourself."
   ]
  },
  {
   "cell_type": "code",
   "execution_count": 3,
   "id": "2906a175-d43b-4508-b28b-46409e7d39b6",
   "metadata": {},
   "outputs": [],
   "source": [
    "from openai import OpenAI\n",
    "from pprint import pprint"
   ]
  },
  {
   "cell_type": "markdown",
   "id": "560ab418-5df3-4df1-a85f-33322ae7c91e",
   "metadata": {},
   "source": [
    "Create the client to interface with their server:"
   ]
  },
  {
   "cell_type": "code",
   "execution_count": 4,
   "id": "f77c18d3-af89-4902-8cf5-63629a79ee57",
   "metadata": {},
   "outputs": [],
   "source": [
    "client = OpenAI()"
   ]
  },
  {
   "cell_type": "markdown",
   "id": "da949c4e-42cd-4100-a968-2f1de45ea20c",
   "metadata": {},
   "source": [
    "To generate chat responses, we use the `chat.completions.create()` method. This has only two required arguments:\n",
    "\n",
    "`model` and `messages`\n",
    "\n",
    "- **`model`** :  the string name of the model you want to use (`\"gpt-4\"`, `\"gpt-3.5-turbo\"`).\n",
    "- **`messages`** : a list of messages:  each message is a dictionary with `role` and `content` keys. \n",
    "\n",
    "There are lots of other optional parameters but let's not focus on those now. \n",
    "\n",
    "Let's look at an example.\n",
    "\n",
    "Note that we'll use `gpt-3.5-turbo`, as it is really cost-efficient. "
   ]
  },
  {
   "cell_type": "code",
   "execution_count": null,
   "id": "e1cc6fc2-1f01-4a29-9f07-e151ba0bddfd",
   "metadata": {},
   "outputs": [],
   "source": [
    "response = client.chat.completions.create(model=\"gpt-3.5-turbo\",\n",
    "                                          messages = [{\"role\": \"user\",\n",
    "                                                      \"content\": \"Hello World\"}],\n",
    "                                          n=1,\n",
    "                                          temperature=1.3)"
   ]
  },
  {
   "cell_type": "markdown",
   "id": "1e3f14cb-eb90-4e45-b518-2d5c7f617df0",
   "metadata": {},
   "source": [
    "Let's see it's response"
   ]
  },
  {
   "cell_type": "code",
   "execution_count": null,
   "id": "0ac1c334-7e48-4c9c-a649-e8e5e08c98c8",
   "metadata": {},
   "outputs": [],
   "source": [
    "print(response.choices[0].message.content)"
   ]
  },
  {
   "cell_type": "markdown",
   "id": "d47a5ed2-9c64-4980-a482-2754b709399a",
   "metadata": {},
   "source": [
    "Congratulations, you've successfully build your first interface with a ChatGPT model!!!"
   ]
  },
  {
   "cell_type": "markdown",
   "id": "0d077a82-6d2b-40b0-baf3-2f85c3621ecd",
   "metadata": {},
   "source": [
    "Let's look at what just happened. What is this `response`?\n",
    "\n",
    "The `response` is its own special type of object, a `ChatCompletion` object: `.choices`, `.usage`, and `.model` are its key attributes.\n",
    "\n",
    "Unpacking the attributes a little bit:\n",
    "\n",
    "- **`.choices`** : a list of chat responses , or completions (default length one). Each has a `.message.content` field that contains the model’s reply. So to get the chat response: `response.choices[0].message.content`, which is what we did above.\n",
    "- **`.usage`** : object that tells you about token usage (`prompt_tokens`, `completion_tokens`, `total_tokens`). This can be useful for monitoring costs.   \n",
    "- **`.model`** : the name of the model that generated the response (e.g. `gpt-3.5-turbo`)\n",
    "\n",
    "Feel free to play with these attributes."
   ]
  },
  {
   "cell_type": "code",
   "execution_count": null,
   "id": "da1e72de-eac4-4cfb-a9a7-f8b5ccc2384d",
   "metadata": {},
   "outputs": [],
   "source": [
    "type(response)"
   ]
  },
  {
   "cell_type": "code",
   "execution_count": null,
   "id": "45cf71c2-970e-46d1-b51b-a1b37efd15f3",
   "metadata": {},
   "outputs": [],
   "source": [
    "response.model"
   ]
  },
  {
   "cell_type": "markdown",
   "id": "d63772a6-b8a3-4c3a-9f4c-6eeec646ecb6",
   "metadata": {},
   "source": [
    "### Other parameters for `completions.create()`\n",
    "There are a few other important parameters for the completions API you might want to play with.\n",
    "- `temperature`: controls randomness. Lower (0 is min) is more deterministic. `0` means pick the most likely token. 0.7 is a standard default. 1.0 and great adds a great deal of randomness in selection. If you want deterministic outputs, set it to 0. \n",
    "- `top_p`: enables *nucleus sampling* — the model restricts the set of tokens to the smallest set whose probabilities is `p`, so it limits the model outputs. Instead of using all tokens, the model samples only from the smallest group of tokens whose probabilities sum to p.\n",
    "- `n`: sets number of responses returned in `.choices`. It defaults to 1. If you have temperature set to 0, you are wasting tokens.\n",
    "- `max_tokens`: limits the lenght of the response. This can be a useful way to keep costs under control. You can also just *tell* the model to keep the response under 50 words in your prompt. \n"
   ]
  },
  {
   "cell_type": "code",
   "execution_count": null,
   "id": "4e82d443-0101-4d7e-8c24-b21fb668e7ba",
   "metadata": {},
   "outputs": [],
   "source": [
    "Quick Question? \n",
    "\n",
    "A language model is trying to pick the next word after “I ate a”.\n",
    "The possible next words and their probabilities are:\n",
    "\n",
    "Word\tProbability\n",
    "apple\t0.6\n",
    "banana\t0.25\n",
    "cherry\t0.1\n",
    "donut\t0.05\n",
    "\n",
    "Now consider two different parameter settings:\n",
    "\n",
    "Setting A: temperature = 0.0, top_p = 1.0\n",
    "\n",
    "Setting B: temperature = 1.0, top_p = 0.6\n",
    "\n",
    "Which outcome is most likely?\n",
    "\n",
    "A.\n",
    "Both A and B will always choose apple, because it has the highest probability.\n",
    "\n",
    "B.\n",
    "Setting A will always choose apple, while Setting B will randomly choose between apple and banana, since together they make up the top 60% of probability.\n",
    "\n",
    "C.\n",
    "Setting A will randomly choose between all four words, while Setting B will always choose apple.\n",
    "\n",
    "D.\n",
    "Setting A and B both randomly choose among all four options."
   ]
  },
  {
   "cell_type": "code",
   "execution_count": 11,
   "id": "b0758bcf-1a42-4fd3-afc6-77874b8b5c90",
   "metadata": {},
   "outputs": [
    {
     "name": "stdout",
     "output_type": "stream",
     "text": [
      "ChatCompletionMessage(content=\"Hello! It sounds like Alex is a valuable addition to your team. It's great to hear that she has been successful in both the research and development aspects of the project, especially in creating a feature for analyzing data through PDF files. Delivering a product with a 12% impact is impressive, and her ability to adapt quickly to new tools like MCP is commendable. It seems like Alex is proactive and efficient in her work, which is beneficial for the team's productivity and success. If you need any more assistance or advice regarding Alex or any other team member, feel free to ask!\", refusal=None, role='assistant', annotations=[], audio=None, function_call=None, tool_calls=None)\n"
     ]
    }
   ],
   "source": [
    "#Let's play around more with the completions API. \n",
    "# We want to give kudos to an employee who did a great job at their current project. \n",
    "#First, we will give information about the employee to the model and then ask for suggestions on what to say about his/her work.\n",
    "completion = client.chat.completions.create(\n",
    "  model=\"gpt-3.5-turbo\",\n",
    "  messages=[\n",
    "    {\"role\": \"system\", \"content\": \"You are a helpful assistant.\"},\n",
    "    {\"role\": \"user\", \"content\": \"Hello! We have an employee Alex who recently joined our team. She worked on reaserch and also development part on the newest feature of analyzing data through pdf files. She develiedred product and having created 12% impact. She got fast in adapting the MCP and delievered the product on time.\"}\n",
    "  ],\n",
    "    store = True\n",
    ")\n",
    "\n",
    "print(completion.choices[0].message)"
   ]
  },
  {
   "cell_type": "code",
   "execution_count": 28,
   "id": "a29b438e-1da7-40fd-ba4f-983de7562b2f",
   "metadata": {},
   "outputs": [
    {
     "name": "stdout",
     "output_type": "stream",
     "text": [
      "First_ID chatcmpl-CPnj8rO3x2TNXfihsXXaVlHwZemcf\n",
      "Data Alex, your commitment to excellence and passion for innovation really came through on the new feature. You took it from concept to a polished release—grounded in thoughtful research, careful testing, and crisp cross-team collaboration—and the results show it. Your work is advancing our roadmap, elevating the user experience, and energizing the team. Congratulations on a job brilliantly done, and thank you for the dedication you bring every day. Keep up the fantastic work!\n",
      "Kudos Alex, your dedication and commitment to excellence truly shone through in your work on the new feature. Your innovative approach, attention to detail, and collaborative spirit were instrumental in bringing this project to life. Your tireless efforts have not only enhanced our roadmap but have also elevated the overall user experience and inspired the entire team. Your passion and hard work do not go unnoticed, and we truly appreciate the value you bring each day. Congratulations on a job well done, Alex. Your contributions make a real difference, and we are grateful for your outstanding work. Keep up the fantastic work!\n"
     ]
    }
   ],
   "source": [
    "completions = client.chat.completions.list()\n",
    "#print(completions)\n",
    "if completions.first_id: \n",
    "    print(\"First_ID\",completions.first_id)\n",
    "    first_id = completions.first_id\n",
    "else:\n",
    "    print(\"No data\")\n",
    "if first_id: \n",
    "    first_completion = client.chat.completions.retrieve(completion_id=first_id)\n",
    "    print(\"Data\", first_completion.choices[0].message.content)\n",
    "    employee_info = first_completion.choices[0].message.content\n",
    "kudos_message = client.chat.completions.create(\n",
    "  model=\"gpt-3.5-turbo\",\n",
    "  messages=[\n",
    "    {\"role\": \"system\", \"content\": \"You are a helpful assistant.\"},\n",
    "    {\"role\": \"user\", \"content\": employee_info },\n",
    "      {\"role\": \"user\", \"content\": \"You have to give kudos to the employee for their hard work and align it to their work to feel personal.\" }\n",
    "  ],\n",
    "    store = True\n",
    ")\n",
    "print(\"Kudos\",kudos_message.choices[0].message.content)\n",
    "\n",
    "    "
   ]
  },
  {
   "cell_type": "markdown",
   "id": "660b66ee-1aa1-41c5-a08a-04d56e3a4840",
   "metadata": {},
   "source": [
    "# Generate audio"
   ]
  },
  {
   "cell_type": "code",
   "execution_count": null,
   "id": "780ad236-6a51-4791-81e7-514f32fc7dcc",
   "metadata": {},
   "outputs": [],
   "source": [
    "from pathlib import Path\n",
    "from IPython.display import Audio"
   ]
  },
  {
   "cell_type": "markdown",
   "id": "13e185e3-dedf-448b-8f1a-f8d5ef128f0d",
   "metadata": {},
   "source": [
    "The OpenAI API is not just built for generating written text. \n",
    "\n",
    "Just for fun, try running the following, and then click on the play button below (you might need to install some additional libraries).\n",
    "\n",
    "If you know a language other than English, try it out. It can speak many different languages. "
   ]
  },
  {
   "cell_type": "code",
   "execution_count": null,
   "id": "2ade1351-fd5e-418e-8fd0-d3fa89dcb8eb",
   "metadata": {},
   "outputs": [],
   "source": [
    "voice = \"alloy\"  #shimmer is higher pitch, onyx lower pitch\n",
    "\n",
    "speech_file_path = Path(\"speech.mp3\")\n",
    "\n",
    "input_text1 = \"Python is an amazing programming language.\"\n",
    "input_text2 = \"But it can't take my dog for a walk.... Or feed my fish.\"\n",
    "\n",
    "input_text = input_text1 + input_text2\n",
    "\n",
    "try:\n",
    "    with client.audio.speech.with_streaming_response.create(\n",
    "        model=\"tts-1\",\n",
    "        voice=voice,\n",
    "        input=input_text\n",
    "    ) as speech_response:\n",
    "        speech_response.stream_to_file(speech_file_path)\n",
    "except openai.BadRequestError:\n",
    "    print(\"Invalid voice selected: {voice}\")\n",
    "\n",
    "print(f\"Audio saved as {speech_file_path} with voice of {voice}\")\n",
    "\n",
    "Audio(str(speech_file_path))"
   ]
  },
  {
   "cell_type": "markdown",
   "id": "9ae22416-8e7f-4681-af44-22476d539d19",
   "metadata": {},
   "source": [
    "## A little more about messages\n",
    "We said above that the messages parameter the chat completions endpoint is a *list of messages* is a dictionary with `role` and `content` keys. Before finishing this up, let's look at this in a little more detail. The `role` describes where the content is coming from: the `user` or the model (`assistant`). The `content` is the text being sent. There is a third special role, the `system`, which is typically sent first, that sets up the model's personality (e.g., tell it to act like a kindly grandmother talking to a bunch of young children). \n",
    "\n",
    "In practice, once the `system` role is set, the roles tend to switch between `user` (query from person) and `assistant` (answer from the model). \n",
    "\n",
    "Sending a list of messages is important because the chat completions endpoint *has no memory of previous conversations*, so if you want it to have context, *you have to send it*.\n",
    "\n",
    "Here is an example:"
   ]
  },
  {
   "cell_type": "code",
   "execution_count": null,
   "id": "84698ad9-108e-4d38-a294-341e95bce22e",
   "metadata": {},
   "outputs": [],
   "source": [
    "messages = [{\"role\": \"system\",\n",
    "             \"content\": \"You are a helpful teacher. You explain things at a level that a beginning Python programmer can understand.\"},\n",
    "            {\"role\": \"user\",\n",
    "             \"content\": \"Are there any other measures of complexity besides time complexity for an algorithm?\"},\n",
    "            {\"role\": \"assistant\",\n",
    "             \"content\": \"Yes there are other measures, such as space complexity.\"},\n",
    "            {\"role\": \"user\",\n",
    "             \"content\": \"What is that?\"}]"
   ]
  },
  {
   "cell_type": "code",
   "execution_count": null,
   "id": "6c6ed513-3e84-499e-875b-93fe87370ebc",
   "metadata": {},
   "outputs": [],
   "source": [
    "current_model = \"gpt-3.5-turbo\""
   ]
  },
  {
   "cell_type": "code",
   "execution_count": null,
   "id": "791d052e-a63b-4cdb-a81f-c980561b3c32",
   "metadata": {},
   "outputs": [],
   "source": [
    "response = client.chat.completions.create(model=current_model,\n",
    "                                          messages=messages)"
   ]
  },
  {
   "cell_type": "code",
   "execution_count": null,
   "id": "f2e15396-df39-4faa-a443-ccf1e085c93e",
   "metadata": {},
   "outputs": [],
   "source": [
    "print(response.choices[0].message.content)"
   ]
  },
  {
   "cell_type": "markdown",
   "id": "8b934a28-02c9-41f4-bde2-0fc3beeab916",
   "metadata": {},
   "source": [
    "## Explore on your own!\n",
    "Congrats you know the basics of the completions API! There really isn't that much more to it. From here you could build a simple chatbot with a personality, build in memory of previous conversations, and build a simple application. \n",
    "\n",
    "I'd encourage you to explore more below. See what it can do. Explore in different languages to see where it suceeds, fails, etc. "
   ]
  },
  {
   "cell_type": "code",
   "execution_count": null,
   "id": "8d0f5141-7790-40d3-89a8-dd61f52f32c8",
   "metadata": {},
   "outputs": [],
   "source": [
    "messages = [{\"role\": \"system\",\n",
    "             \"content\": \"<add your own> create your own personality here\"},\n",
    "            {\"role\": \"user\",\n",
    "             \"content\": \"<add your own> create your own content here\"}]\n",
    "\n",
    "# Feel free to expand the list of messages with assistant/user interactions"
   ]
  },
  {
   "cell_type": "code",
   "execution_count": null,
   "id": "51d772cb-55f4-4f75-880d-faa00bf772a0",
   "metadata": {},
   "outputs": [],
   "source": [
    "response = client.chat.completions.create(model=current_model,\n",
    "                                          messages=messages)"
   ]
  },
  {
   "cell_type": "code",
   "execution_count": null,
   "id": "2e9c1fa1-cffc-4179-b8a1-53e0fa6b0bbd",
   "metadata": {},
   "outputs": [],
   "source": [
    "print(response.choices[0].message.content)"
   ]
  },
  {
   "cell_type": "code",
   "execution_count": null,
   "id": "4084eb9f-b32e-4ef0-aed2-883df0214f3e",
   "metadata": {},
   "outputs": [],
   "source": []
  }
 ],
 "metadata": {
  "kernelspec": {
   "display_name": "Python-200-venv",
   "language": "python",
   "name": "venv"
  },
  "language_info": {
   "codemirror_mode": {
    "name": "ipython",
    "version": 3
   },
   "file_extension": ".py",
   "mimetype": "text/x-python",
   "name": "python",
   "nbconvert_exporter": "python",
   "pygments_lexer": "ipython3",
   "version": "3.12.1"
  }
 },
 "nbformat": 4,
 "nbformat_minor": 5
}
